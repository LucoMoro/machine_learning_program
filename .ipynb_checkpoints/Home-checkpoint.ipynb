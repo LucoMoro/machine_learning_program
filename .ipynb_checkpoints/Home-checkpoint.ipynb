{
 "cells": [
  {
   "cell_type": "code",
   "execution_count": 76,
   "id": "460289fd",
   "metadata": {},
   "outputs": [],
   "source": [
    "import pandas as pd\n",
    "from sklearn.tree import DecisionTreeClassifier\n",
    "from sklearn.model_selection import train_test_split\n",
    "from sklearn.metrics import accuracy_score\n",
    "import joblib"
   ]
  },
  {
   "cell_type": "code",
   "execution_count": 82,
   "id": "65e724bc",
   "metadata": {},
   "outputs": [
    {
     "name": "stderr",
     "output_type": "stream",
     "text": [
      "C:\\Users\\Luca\\AppData\\Roaming\\Python\\Python37\\site-packages\\sklearn\\base.py:451: UserWarning: X does not have valid feature names, but DecisionTreeClassifier was fitted with feature names\n",
      "  \"X does not have valid feature names, but\"\n"
     ]
    }
   ],
   "source": [
    "#CODE: MEASURING THE ACCURACY\n",
    "#music_data = pd.read_csv(\"music.csv\")\n",
    "#X = music_data.drop(columns=['genre']) #input dataset\n",
    "#y = music_data['genre'] #output dataset\n",
    "#X_train, X_test, y_train, y_test = train_test_split(X, y, test_size=0.2)\n",
    "#splitting the dataset in training set and test set\n",
    "\n",
    "#model = DecisionTreeClassifier()\n",
    "#model.fit(X_train, y_train)\n",
    "\n",
    "#predictions = model.predict(X_test)\n",
    "#accuracy_score(y_test, predictions)\n",
    "\n",
    "#CODE: PERSISTING MODELS\n",
    "joblib.dump(model, \"music-recommender.joblib\")\n",
    "model = joblib.load(\"music-recommender.joblib\")\n",
    "predictions = model.predict([[21, 1]])"
   ]
  },
  {
   "cell_type": "code",
   "execution_count": null,
   "id": "e6b2ad73",
   "metadata": {},
   "outputs": [],
   "source": []
  }
 ],
 "metadata": {
  "kernelspec": {
   "display_name": "Python 3 (ipykernel)",
   "language": "python",
   "name": "python3"
  },
  "language_info": {
   "codemirror_mode": {
    "name": "ipython",
    "version": 3
   },
   "file_extension": ".py",
   "mimetype": "text/x-python",
   "name": "python",
   "nbconvert_exporter": "python",
   "pygments_lexer": "ipython3",
   "version": "3.7.13"
  }
 },
 "nbformat": 4,
 "nbformat_minor": 5
}
